{
 "cells": [
  {
   "cell_type": "markdown",
   "id": "every-richardson",
   "metadata": {},
   "source": [
    "# Wrangle Report\n",
    "\n",
    "This is a report about the wrangle made in the tweets of WeRateDogs.\n",
    "\n",
    "To gather the data used in this project, it was provided a CSV file (`twitter-archive-enhanced.csv`) containing 2356 tweets. Also were provided a TSV file to be downloaded from the following [URL](https://d17h27t6h515a5.cloudfront.net/topher/2017/August/599fd2ad_image-predictions/image-predictions.tsv). Furthermore, were requested that additional data (count of retweets and favorites) were gathered from Twitter API and be saved in a TXT file.\n",
    "\n",
    "During the assessment stage, the following issues were identified:\n",
    "**Quality**\n",
    "- Nulls represented as '**None**' in `name`, `doggo`, `floofer`, `pupper` and `puppo` columns.\n",
    "- Erroneous datatype (`timestamp`).\n",
    "- There are 181 retweets.\n",
    "- There are 59 tweets without an image.\n",
    "- There are tweets with 24/7 wrongly interpreted as a rating.\n",
    "- Record with tweet_id 832088576586297345 is not a rating tweet.\n",
    "- Some ratings have a decimal and were not correctly extracted to `rating_numerator`.\n",
    "- There are tweets with more than one fraction.\n",
    "- There are some invalid `name` that starts with a lowercase letter.\n",
    "- Some variations of the classification in stages of the dogs were not correctly parsed.\n",
    "- There are some missing predictions in the `image_predictions` table (can not fix).\n",
    "- We can not get the additional data from 25 tweets because they were deleted or were changed to be private (can not fix).\n",
    "\n",
    "**Tidiness**\n",
    "- Text link and text description inside `source` column.\n",
    "- `retweet_count` and `favorite_count` should be in the `twitter_archive_enhanced` table.\n",
    "- Classification of a dog in four columns (`doggo`, `floofer`, `pupper` and `puppo`).\n",
    "\n",
    "After these issues have been cleaned, the result data frame was stored in a CSV file (`twitter_archive_master.csv`). There are still other issues to be identified and cleaned, for instance, try to fill the `name` of the dogs that are null or use the `image-predictions.tsv` information to collect the breed of the dog. "
   ]
  }
 ],
 "metadata": {
  "kernelspec": {
   "display_name": "Python [conda env:py3_env] *",
   "language": "python",
   "name": "conda-env-py3_env-py"
  },
  "language_info": {
   "codemirror_mode": {
    "name": "ipython",
    "version": 3
   },
   "file_extension": ".py",
   "mimetype": "text/x-python",
   "name": "python",
   "nbconvert_exporter": "python",
   "pygments_lexer": "ipython3",
   "version": "3.8.5"
  }
 },
 "nbformat": 4,
 "nbformat_minor": 5
}
